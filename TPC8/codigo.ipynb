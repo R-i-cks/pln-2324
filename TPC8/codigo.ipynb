{
 "cells": [
  {
   "cell_type": "code",
   "execution_count": 3,
   "metadata": {},
   "outputs": [
    {
     "name": "stdout",
     "output_type": "stream",
     "text": [
      "[('rony', 0.9409298300743103), ('mione', 0.9262134432792664), ('hermione', 0.924987256526947), ('draco', 0.9235844612121582), ('alerta', 0.9135842323303223), ('abaixando', 0.8973746299743652), ('pose', 0.8950232863426208), ('examinavam', 0.8893862962722778), ('olhando', 0.8873739838600159), ('basta', 0.8846249580383301)]\n"
     ]
    }
   ],
   "source": [
    "import re\n",
    "from gensim.models import Word2Vec \n",
    "from gensim.utils import tokenize\n",
    "\n",
    "f1 = open(\"Harry_Potter_Camara_Secreta-br.txt\")\n",
    "f2 = open(\"Harry_Potter_e_A_Pedra_Filosofal.txt\")\n",
    "harry_text = f1.read()\n",
    "\n",
    "linhas = harry_text.split(\"\\n\")\n",
    "\n",
    "tokens = []\n",
    "for linha in linhas:\n",
    "    #linha = re.sub(r'[-!?.,]',\"\", linha)\n",
    "    linha = list(tokenize(linha, lower=True))\n",
    "    tokens.append(linha)\n",
    "\n",
    "model = Word2Vec(tokens, vector_size= 300, window= 5, min_count= 1, epochs= 20)\n",
    "\n",
    "print(model.wv.most_similar(\"harry\"))\n"
   ]
  },
  {
   "cell_type": "code",
   "execution_count": 4,
   "metadata": {},
   "outputs": [
    {
     "name": "stdout",
     "output_type": "stream",
     "text": [
      "[('manhoso', 0.2981202304363251), ('evitá', 0.29589444398880005), ('ele', 0.2943769693374634), ('controlar', 0.2735046446323395), ('ernie', 0.2706887125968933), ('escrevem', 0.2686924636363983), ('bater', 0.252236932516098), ('rouco', 0.24999208748340607), ('a', 0.2492823749780655), ('draco', 0.24851256608963013)]\n"
     ]
    }
   ],
   "source": [
    "model = Word2Vec(tokens, vector_size= 300, window= 5, min_count= 1, epochs= 100)\n",
    "\n",
    "print(model.wv.most_similar(\"harry\"))"
   ]
  },
  {
   "cell_type": "code",
   "execution_count": 5,
   "metadata": {},
   "outputs": [
    {
     "name": "stdout",
     "output_type": "stream",
     "text": [
      "[('rony', 0.9152101874351501), ('mione', 0.9011872410774231), ('hermione', 0.8736370801925659), ('draco', 0.8548683524131775), ('riddle', 0.8382012844085693), ('ligeiro', 0.8320111632347107), ('ganhamos', 0.829282820224762), ('rispidez', 0.8200699687004089), ('baixinho', 0.8178368210792542), ('arrastada', 0.8163668513298035)]\n"
     ]
    }
   ],
   "source": [
    "model = Word2Vec(tokens, vector_size= 300, window= 5, min_count= 2, epochs= 20)\n",
    "\n",
    "print(model.wv.most_similar(\"harry\"))"
   ]
  },
  {
   "cell_type": "code",
   "execution_count": 6,
   "metadata": {},
   "outputs": [
    {
     "name": "stdout",
     "output_type": "stream",
     "text": [
      "[('mione', 0.9148217439651489), ('rony', 0.890669584274292), ('riddle', 0.8903840780258179), ('hagrid', 0.8794310092926025), ('hermione', 0.8745114803314209), ('wood', 0.8589926958084106), ('fred', 0.8537343740463257), ('dumbledore', 0.8522367477416992), ('colin', 0.8477010130882263), ('snape', 0.8236331343650818)]\n"
     ]
    }
   ],
   "source": [
    "model = Word2Vec(tokens, vector_size= 300, window= 1, min_count= 2, epochs= 20)\n",
    "\n",
    "print(model.wv.most_similar(\"harry\"))"
   ]
  },
  {
   "cell_type": "code",
   "execution_count": 7,
   "metadata": {},
   "outputs": [
    {
     "name": "stdout",
     "output_type": "stream",
     "text": [
      "[('mione', 0.9335439205169678), ('fred', 0.9308074712753296), ('rony', 0.9297399520874023), ('jorge', 0.9250139594078064), ('wood', 0.9070553183555603), ('riddle', 0.8756438493728638), ('harry', 0.8745114803314209), ('olhando', 0.8684040904045105), ('furioso', 0.8638596534729004), ('snape', 0.8621664643287659)]\n"
     ]
    }
   ],
   "source": [
    "print(model.wv.most_similar(\"hermione\"))"
   ]
  },
  {
   "cell_type": "code",
   "execution_count": 8,
   "metadata": {},
   "outputs": [
    {
     "name": "stdout",
     "output_type": "stream",
     "text": [
      "[('mione', 0.9333273768424988), ('hermione', 0.9297399520874023), ('harry', 0.8906696438789368), ('jorge', 0.8889418840408325), ('wood', 0.8761205673217773), ('riddle', 0.869053065776825), ('fred', 0.8669774532318115), ('direta', 0.8421788811683655), ('lockhart', 0.8372979760169983), ('colin', 0.8233335018157959)]\n"
     ]
    }
   ],
   "source": [
    "print(model.wv.most_similar(\"rony\"))"
   ]
  },
  {
   "cell_type": "code",
   "execution_count": 9,
   "metadata": {},
   "outputs": [
    {
     "name": "stdout",
     "output_type": "stream",
     "text": [
      "[('mione', 0.9131827354431152), ('rony', 0.8909391164779663), ('riddle', 0.8891167640686035), ('hagrid', 0.8792670965194702), ('hermione', 0.873762845993042), ('wood', 0.8587622046470642), ('fred', 0.8540167212486267), ('dumbledore', 0.8514494299888611), ('colin', 0.8468440771102905), ('snape', 0.8225130438804626)]\n",
      "[('mione', 0.9327091574668884), ('fred', 0.9312750697135925), ('rony', 0.9301331043243408), ('jorge', 0.9244506359100342), ('wood', 0.9060349464416504), ('riddle', 0.8737868070602417), ('harry', 0.873762845993042), ('olhando', 0.8682055473327637), ('furioso', 0.863027811050415), ('snape', 0.8609525561332703)]\n"
     ]
    }
   ],
   "source": [
    "model = Word2Vec(tokens, vector_size= 300, window= 1, min_count= 2, epochs= 20)\n",
    "print(model.wv.most_similar(\"harry\"))\n",
    "print(model.wv.most_similar(\"hermione\"))"
   ]
  },
  {
   "cell_type": "code",
   "execution_count": 10,
   "metadata": {},
   "outputs": [
    {
     "name": "stdout",
     "output_type": "stream",
     "text": [
      "[('mione', 0.901395320892334), ('rony', 0.881174623966217), ('riddle', 0.8717638254165649), ('hagrid', 0.8668832778930664), ('wood', 0.8535966873168945), ('hermione', 0.8499937653541565), ('dumbledore', 0.8415738344192505), ('fred', 0.8413724303245544), ('colin', 0.8397684097290039), ('binns', 0.8169329762458801)]\n",
      "[('mione', 0.9292204976081848), ('fred', 0.9258260130882263), ('rony', 0.9165372848510742), ('jorge', 0.914854109287262), ('wood', 0.8994249105453491), ('riddle', 0.8679012656211853), ('furioso', 0.8631986379623413), ('olhando', 0.8574390411376953), ('snape', 0.856794536113739), ('dumbledore', 0.8548845052719116)]\n",
      "[('mione', 0.928880512714386), ('hermione', 0.916537344455719), ('jorge', 0.8834660649299622), ('harry', 0.8811745643615723), ('wood', 0.8751344084739685), ('fred', 0.8634792566299438), ('riddle', 0.8490545153617859), ('direta', 0.835639476776123), ('lockhart', 0.827637791633606), ('colin', 0.8271610140800476)]\n"
     ]
    }
   ],
   "source": [
    "model = Word2Vec(tokens, vector_size= 200, window= 1, min_count= 2, epochs= 20)\n",
    "\n",
    "print(model.wv.most_similar(\"harry\"))\n",
    "print(model.wv.most_similar(\"hermione\"))\n",
    "print(model.wv.most_similar(\"rony\"))"
   ]
  },
  {
   "cell_type": "markdown",
   "metadata": {},
   "source": [
    "Aqui estudou-se o efeito da variação do vector_size, piorando com a sua diminuição.\n",
    "Não vale a pena aumentar muito o número de dimensões pois, embora 'melhore' os resultados, a documentação recomenda 200, sendo 300 já um valor elevado, o que faz sentido uma vez que mais dimensões pode ter como consequência os modelos decorarem os dados de treino, falhando posteriormente quando aplicado a outros dados"
   ]
  },
  {
   "cell_type": "code",
   "execution_count": 11,
   "metadata": {},
   "outputs": [
    {
     "name": "stdout",
     "output_type": "stream",
     "text": [
      "[('mione', 0.9753850102424622), ('rony', 0.969978928565979), ('lockhart', 0.9534294605255127), ('hermione', 0.9519728422164917), ('dumbledore', 0.938416063785553), ('gina', 0.931648313999176), ('jorge', 0.9285438060760498), ('draco', 0.9279652833938599), ('percy', 0.9271509647369385), ('fred', 0.9241383075714111)]\n",
      "[('jorge', 0.9754050970077515), ('fred', 0.967649519443512), ('lockhart', 0.9668269753456116), ('rony', 0.9597047567367554), ('harry', 0.9519728422164917), ('mione', 0.950900673866272), ('olhou', 0.9505994915962219), ('olhando', 0.9495239853858948), ('draco', 0.944718599319458), ('enquanto', 0.9408029317855835)]\n",
      "[('harry', 0.969978928565979), ('hermione', 0.9597048163414001), ('mione', 0.9437097907066345), ('jorge', 0.9414379596710205), ('lockhart', 0.9341709613800049), ('fred', 0.9283778071403503), ('draco', 0.8829219937324524), ('gina', 0.8778244853019714), ('percy', 0.8739718198776245), ('quando', 0.8674358129501343)]\n"
     ]
    }
   ],
   "source": [
    "model = Word2Vec(tokens, vector_size= 250, window= 2, min_count= 4, epochs= 12)\n",
    "\n",
    "print(model.wv.most_similar(\"harry\"))\n",
    "print(model.wv.most_similar(\"hermione\"))\n",
    "print(model.wv.most_similar(\"rony\"))"
   ]
  },
  {
   "cell_type": "code",
   "execution_count": 12,
   "metadata": {},
   "outputs": [
    {
     "name": "stdout",
     "output_type": "stream",
     "text": [
      "draco\n"
     ]
    }
   ],
   "source": [
    "print(model.wv.doesnt_match([\"harry\",\"ron\",\"draco\"]))"
   ]
  },
  {
   "cell_type": "code",
   "execution_count": 13,
   "metadata": {},
   "outputs": [
    {
     "name": "stdout",
     "output_type": "stream",
     "text": [
      "snape\n"
     ]
    }
   ],
   "source": [
    "print(model.wv.doesnt_match([\"hermione\",\"ron\",\"snape\"]))"
   ]
  },
  {
   "cell_type": "code",
   "execution_count": 14,
   "metadata": {},
   "outputs": [
    {
     "name": "stdout",
     "output_type": "stream",
     "text": [
      "jorge\n"
     ]
    }
   ],
   "source": [
    "print(model.wv.doesnt_match([\"jorge\",\"ron\",\"harry\"]))"
   ]
  },
  {
   "cell_type": "code",
   "execution_count": 19,
   "metadata": {},
   "outputs": [
    {
     "name": "stdout",
     "output_type": "stream",
     "text": [
      "[('rony', 0.9476259350776672), ('mione', 0.9415086507797241), ('lockhart', 0.9113600254058838), ('hermione', 0.9048982262611389), ('gina', 0.9016700983047485), ('jorge', 0.895369827747345), ('fred', 0.8856217265129089), ('perguntou', 0.8850440979003906), ('percy', 0.882418155670166), ('draco', 0.8801889419555664)]\n"
     ]
    }
   ],
   "source": [
    "result = model.wv.most_similar(positive=['dumbledore', 'harry'], negative=['riddle'])\n",
    "print(result)"
   ]
  },
  {
   "cell_type": "code",
   "execution_count": 20,
   "metadata": {},
   "outputs": [
    {
     "name": "stdout",
     "output_type": "stream",
     "text": [
      "[('mione', 0.9657303690910339), ('rony', 0.9439685940742493), ('dumbledore', 0.930854856967926), ('lockhart', 0.9186021089553833), ('hermione', 0.9143903851509094), ('percy', 0.9136468172073364), ('respondeu', 0.9135388731956482), ('perguntou', 0.9098665118217468), ('hagrid', 0.9090713262557983), ('depressa', 0.9040027856826782)]\n"
     ]
    }
   ],
   "source": [
    "result = model.wv.most_similar(positive=['gina', 'harry'], negative=['draco'])\n",
    "print(result)"
   ]
  }
 ],
 "metadata": {
  "kernelspec": {
   "display_name": "Python 3",
   "language": "python",
   "name": "python3"
  },
  "language_info": {
   "codemirror_mode": {
    "name": "ipython",
    "version": 3
   },
   "file_extension": ".py",
   "mimetype": "text/x-python",
   "name": "python",
   "nbconvert_exporter": "python",
   "pygments_lexer": "ipython3",
   "version": "3.10.12"
  }
 },
 "nbformat": 4,
 "nbformat_minor": 2
}
